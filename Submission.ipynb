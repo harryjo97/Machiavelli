{
 "cells": [
  {
   "cell_type": "markdown",
   "metadata": {},
   "source": [
    "# Import"
   ]
  },
  {
   "cell_type": "code",
   "execution_count": 1,
   "metadata": {},
   "outputs": [],
   "source": [
    "import pandas as pd\n",
    "from pandas import DataFrame\n",
    "import numpy as np\n",
    "\n",
    "import matplotlib.pyplot as plt\n",
    "plt.style.use('fivethirtyeight')\n",
    "import seaborn as sns\n",
    "%matplotlib inline\n",
    "\n",
    "import os\n",
    "\n",
    "import xgboost as xgb \n",
    "from xgboost import plot_importance , XGBClassifier\n",
    "\n",
    "import lightgbm as lgbm\n",
    "from lightgbm import LGBMClassifier\n",
    "\n",
    "from sklearn.metrics import *\n",
    "from sklearn.model_selection import train_test_split, KFold, StratifiedKFold\n",
    "\n",
    "from tqdm import notebook\n",
    "import time\n",
    "\n",
    "from tqdm import tqdm, notebook\n",
    "import time"
   ]
  },
  {
   "cell_type": "markdown",
   "metadata": {},
   "source": [
    "# Read Data"
   ]
  },
  {
   "cell_type": "code",
   "execution_count": 2,
   "metadata": {},
   "outputs": [],
   "source": [
    "train_original = pd.read_csv('./open data/train.csv')\n",
    "test_original = pd.read_csv('./open data/test_x.csv')\n",
    "train = train_original.copy()\n",
    "test = test_original.copy()"
   ]
  },
  {
   "cell_type": "code",
   "execution_count": 3,
   "metadata": {},
   "outputs": [],
   "source": [
    "# fill NA\n",
    "def fill_married(data):\n",
    "    pdata = data.copy()\n",
    "    pdata.loc[ (pdata.married==0)&(pdata.age_group=='10s'),'married' ] = 1\n",
    "    pdata.loc[ (pdata.married==0)&(pdata.age_group=='20s'),'married' ] = 1\n",
    "    pdata.loc[pdata.married==0,'married'] = 2\n",
    "    \n",
    "    return pdata\n",
    "\n",
    "def fill_education(data):\n",
    "    pdata = data.copy()\n",
    "    pdata.loc[(pdata.education==0)&(pdata.age_group=='10s'),'education'] = 2\n",
    "    pdata.loc[pdata.education==0,'education'] = 3\n",
    "\n",
    "    return pdata\n",
    "\n",
    "def fill_engnat(data):\n",
    "    pdata = data.copy()\n",
    "    pdata.loc[pdata.engnat==0,'engnat'] = 1\n",
    "    \n",
    "    return pdata\n",
    "\n",
    "def fill_hand(data):\n",
    "    pdata = data.copy()\n",
    "    pdata.loc[pdata.hand==0,'hand'] = 1\n",
    "    \n",
    "    return pdata\n",
    "# feature engineering\n",
    "def Mach_score(data):\n",
    "    pdata = data.copy()\n",
    "    Answers = []\n",
    "    for i in range(20):\n",
    "        Answers.append('Q'+chr(97+i)+'A')\n",
    "    reverse_col = ['QeA','QfA','QkA','QqA','QrA','QaA','QdA','QgA','QiA','QnA']\n",
    "    for col in reverse_col:\n",
    "        pdata[col] = -pdata[col]\n",
    "    pdata['Mach_score'] = pdata[Answers].sum(axis=1)\n",
    "    \n",
    "    return pdata\n",
    "\n",
    "def w_score(data):\n",
    "    pdata = data.copy()\n",
    "    wr = []\n",
    "    wf = []\n",
    "    for i in range(1,14):\n",
    "        wr.append(f'wr_{i:02d}')\n",
    "    for i in range(1,4):\n",
    "        wf.append(f'wf_{i:02d}')\n",
    "    \n",
    "    pdata['wr'] = pdata[wr].sum(axis=1)\n",
    "    pdata['wf'] = pdata[wf].sum(axis=1)\n",
    "    \n",
    "    return pdata\n",
    "\n",
    "def TIPI(data):\n",
    "    pdata = data.copy()\n",
    "    pdata['tp_score_1'] = pdata['tp01'] - pdata['tp06']\n",
    "    pdata['tp_score_2'] = pdata['tp07'] - pdata['tp02']\n",
    "    pdata['tp_score_3'] = pdata['tp03'] - pdata['tp08']\n",
    "    pdata['tp_score_4'] = pdata['tp09'] - pdata['tp04']\n",
    "    pdata['tp_score_5'] = pdata['tp05'] - pdata['tp10']\n",
    "    \n",
    "    return pdata\n",
    "\n",
    "# drop outlier\n",
    "def drop_outlier(data, datatype):\n",
    "    \n",
    "    assert datatype == 'train' or datatype=='test', 'Wrong data type given'\n",
    "    \n",
    "    pdata = data.copy()\n",
    "    if datatype=='train':\n",
    "        \n",
    "        out_arr = []\n",
    "        out_arr.append( data[data.familysize>=16].index )\n",
    "        out_arr.append( data[data.wr<=3].index )\n",
    "        out_arr.append( data[data.wf>=2].index )\n",
    "\n",
    "        out = []\n",
    "        for outarr in out_arr:\n",
    "            out = np.union1d(out, outarr)\n",
    "\n",
    "        pdata = data.drop(out)\n",
    "    \n",
    "    return pdata\n",
    "# feature banding\n",
    "def age_band(data):\n",
    "    pdata = data.copy()\n",
    "    pdata['age_group'].replace(['10s','20s','30s','40s','50s','60s','+70s'],[1,2,3,4,5,5,5],inplace=True)\n",
    "    \n",
    "    return pdata\n",
    "\n",
    "def E_band(data, num_band):\n",
    "    pdata = data.copy()\n",
    "    for i in range(20):\n",
    "        col = 'Q'+chr(i+97)+'E'\n",
    "        pdata[col] = pd.qcut(pdata[col],num_band)\n",
    "        unique = pdata[col].unique()\n",
    "        pdata[col].replace(unique,range(num_band),inplace=True)\n",
    "        \n",
    "    return pdata\n",
    "\n",
    "def family_band(data):\n",
    "    pdata = data.copy()\n",
    "    pdata.loc[pdata.familysize >= 6,'familysize'] = 6\n",
    "    \n",
    "    return pdata\n",
    "# categorical value to numerical value\n",
    "def cat_gender(data):\n",
    "    feature = 'gender'\n",
    "    pdata = data.copy()\n",
    "    pdata[feature].replace(['Male','Female'],[0,1],inplace=True)\n",
    "    \n",
    "    return pdata\n",
    "\n",
    "def cat_race(data):\n",
    "    feature = 'race'\n",
    "    pdata = data.copy()\n",
    "    unique = ['White', 'Asian', 'Other', 'Black', 'Native American', 'Arab', 'Indigenous Australian']\n",
    "    pdata[feature].replace(unique,[0,1,2,3,4,5,6],inplace=True)\n",
    "    \n",
    "    return pdata\n",
    "\n",
    "def cat_religion(data):\n",
    "    feature = 'religion'\n",
    "    pdata = data.copy()\n",
    "    unique = ['Other', 'Hindu', 'Agnostic', 'Atheist', 'Christian_Other',\n",
    "       'Christian_Catholic', 'Muslim', 'Buddhist', 'Christian_Protestant',\n",
    "       'Jewish', 'Christian_Mormon', 'Sikh']\n",
    "    pdata[feature].replace(unique,[11,10,0,1,2,3,4,5,6,7,8,9],inplace=True)\n",
    "    \n",
    "    return pdata\n",
    "\n",
    "def cat_num(data):\n",
    "    pdata = data.copy()\n",
    "    pdata = cat_gender(pdata)\n",
    "    pdata = cat_race(pdata)\n",
    "    pdata = cat_religion(pdata)\n",
    "    \n",
    "    return pdata\n",
    "# drop feature\n",
    "def drop_feature(data, feature_arr):\n",
    "    arr = feature_arr + ['index'] \n",
    "    \n",
    "    \"\"\"for i in range(20):\n",
    "        arr.append('Q'+chr(i+97)+'A')\n",
    "    for i in range(20):\n",
    "        arr.append('Q'+chr(i+97)+'E')\n",
    "    for i in range(1,14):\n",
    "        arr.append(f'wr_{i:02d}')\n",
    "    for i in range(1,4):\n",
    "        arr.append(f'wf_{i:02d}')\n",
    "    for i in range(1,11):\n",
    "        arr.append(f'tp{i:02d}')\"\"\"\n",
    "    \n",
    "\n",
    "    pdata = data.drop(arr,axis=1)\n",
    "    \n",
    "    return pdata\n"
   ]
  },
  {
   "cell_type": "code",
   "execution_count": 4,
   "metadata": {},
   "outputs": [],
   "source": [
    "def preprocess(data, datatype, feature_arr=[]):\n",
    "    \n",
    "    pdata = data.copy()\n",
    "    # fill NA\n",
    "    pdata = fill_married(pdata)\n",
    "    pdata = fill_education(pdata)\n",
    "    pdata = fill_engnat(pdata)\n",
    "    pdata = fill_hand(pdata)\n",
    "    # feature engineering\n",
    "    pdata = Mach_score(pdata)\n",
    "    pdata = w_score(pdata)\n",
    "    pdata = TIPI(pdata)\n",
    "    # drop outlier\n",
    "    pdata = drop_outlier(pdata,datatype)\n",
    "    # feature banding\n",
    "    pdata = age_band(pdata)\n",
    "    pdata = family_band(pdata)\n",
    "    pdata = E_band(pdata,10)\n",
    "    # categorical value to numerical value\n",
    "    pdata = cat_num(pdata)\n",
    "    # drop feature\n",
    "    pdata = drop_feature(pdata, feature_arr)\n",
    "    # unify type of data\n",
    "    pdata = pdata.astype(np.int)\n",
    "    \n",
    "    return pdata"
   ]
  },
  {
   "cell_type": "code",
   "execution_count": 5,
   "metadata": {},
   "outputs": [],
   "source": [
    "def submission(test_data, model_arr,file_name):\n",
    "    score = np.zeros((test_data.shape[0],2))\n",
    "    num_model = len(model_arr)\n",
    "    for i in range(num_model):\n",
    "        score += model_arr[i].predict_proba(test_data)\n",
    "    pred = np.divide(score,num_model)[:,1]\n",
    "    data = {'index':test['index'],'voted':pred}\n",
    "    submission = DataFrame(data)\n",
    "    submission.to_csv('./submission/'+file_name+'.csv',index=False)\n",
    "    \n",
    "    return pred"
   ]
  },
  {
   "cell_type": "code",
   "execution_count": 6,
   "metadata": {},
   "outputs": [],
   "source": [
    "def train_auc(model_arr, data, label):\n",
    "    score = np.zeros((data.shape[0],2))\n",
    "    num_model = len(model_arr)\n",
    "    for i in range(num_model):\n",
    "        score += model_arr[i].predict_proba(data)\n",
    "    pred = np.divide(score,num_model)[:,1]\n",
    "    \n",
    "    return roc_auc_score(label, pred)"
   ]
  },
  {
   "cell_type": "markdown",
   "metadata": {},
   "source": [
    "# XGBoost"
   ]
  },
  {
   "cell_type": "code",
   "execution_count": 7,
   "metadata": {},
   "outputs": [],
   "source": [
    "def xgb_pred_per(param, bad_arr):\n",
    "    \n",
    "    train_x = preprocess(train,'train',bad_arr)\n",
    "    train_y = train_x['voted']\n",
    "    train_x = train_x.drop(['voted'],axis=1)\n",
    "    test_x = preprocess(test,'test',bad_arr)\n",
    "\n",
    "    model = XGBClassifier(**param)\n",
    "    \n",
    "    start_train = time.time()\n",
    "    model.fit(train_x,train_y, verbose=False)\n",
    "    print(f'Training : {time.time()-start_train:.2f}s')\n",
    "    \n",
    "    # print(f'{param[\"max_depth\"]}_{param[\"n_estimators\"]}_{param[\"learning_rate\"]:.3f}_{param[\"min_child_weight\"]:02d}_{param[\"colsample_bytree\"]:.2f}', end=' ')\n",
    "    \n",
    "    train_xx = preprocess(train,'test',bad_arr)\n",
    "    train_yy = train_xx['voted']\n",
    "    train_xx = train_xx.drop(['voted'],axis=1)\n",
    "    \n",
    "    pred_auc = train_auc([model], train_xx, train_yy)\n",
    "    print(f'{pred_auc:.6f}')\n",
    "    \n",
    "    file_name = f'xgb_{param[\"max_depth\"]}_{param[\"n_estimators\"]}_{param[\"learning_rate\"]:.3f}_{param[\"min_child_weight\"]:02d}_{param[\"colsample_bytree\"]:.2f}_{pred_auc:.4f}'\n",
    "    submission(test_x,[model],file_name)\n",
    "    \n",
    "    return model"
   ]
  },
  {
   "cell_type": "code",
   "execution_count": 22,
   "metadata": {},
   "outputs": [],
   "source": [
    "opt = { 'max_depth' : 8,\n",
    "        'n_estimators' : 200,\n",
    "        'learning_rate' : 0.010,\n",
    "         'min_child_weight' : 6,\n",
    "         'colsample_bytree' : 0.8,\n",
    "        'verbosity' : 0,\n",
    "        'objective' : 'binary:logistic',\n",
    "        'booster' : 'gbtree',\n",
    "        'subsample' : 0.8}\n",
    "opt_gpu = { 'max_depth' : 8,\n",
    "        'n_estimators' : 200,\n",
    "        'learning_rate' : 0.010,\n",
    "         'min_child_weight' : 6,\n",
    "         'colsample_bytree' : 0.8,\n",
    "        'verbosity' : 0,\n",
    "        'objective' : 'binary:logistic',\n",
    "        'booster' : 'gbtree',\n",
    "        'subsample' : 0.8,\n",
    "        'tree_method' : 'gpu_hist'\n",
    "       }"
   ]
  },
  {
   "cell_type": "code",
   "execution_count": 11,
   "metadata": {},
   "outputs": [],
   "source": [
    "opt_arr_1 = ['QbA','QcA','QjA','QhA','QmA','QtA','QlA','QkA','QoA',\n",
    " 'QsA','QrA', 'QeA',  'QnA','QgA', 'QdA'] + \\\n",
    "['QaE','QbE','QcE','QeE','QgE','QmE','QfE','QiE','QoE',\n",
    " 'QlE','QrE','QpE','QnE','QtE','QsE','QkE'] + \\\n",
    "['tp01','tp04','tp05','tp09','tp10','tp02', 'tp08'] +\\\n",
    "['wf_01', 'wf_03'] + \\\n",
    "['wr_06','wr_09', 'wr_11','wr_07', 'wr_12','wr_13'] +\\\n",
    "['tp_score_4','hand']\n",
    "\n",
    "opt_arr_2 = ['QjA','QaE', 'QbA', 'QeE', 'QfE', 'QhA', 'QiE', 'tp09', 'tp_score_4',\n",
    "      'QbE', 'QtA', 'tp01', 'tp_score_2',\n",
    "       'QmA', 'QmE', 'tp04',\n",
    "       'QgE', 'QkA', 'QoE', 'QsA',\n",
    "       'QlE', 'QoE', 'QrE', 'wf_03',\n",
    "       'QoA', 'QlA', 'QsE', 'tp10',\n",
    "       'QpE', 'tp08', 'wf_01',\n",
    "       'QkE', 'QrA', 'wr_05', 'wr_09', 'wr_10', 'wr_11',\n",
    "       'QgA', 'QtE', 'hand', 'tp06', 'QeA', 'wr_06', 'wr_12',\n",
    "       'wr_03', 'wr_07', 'QdA', 'QdE', 'QnE', 'wr_13'\n",
    "      ]\n",
    "\n",
    "opt_arr_3 = ['QaE', 'QbA', 'QbE', 'QfE', 'QgE', 'QhA', 'QjA', 'QkA', 'QmA', 'QmE', \n",
    "             'QqA', 'QrA', 'QrE', 'QsA', 'QtA', 'tp04', 'tp09', 'wf_03', 'wr_13', \n",
    "             'tp_score_4', 'QdA', 'QiE', 'QlA', 'QlE', 'QoA', 'QpE', 'tp01', \n",
    "             'wr_06', 'QnE', 'QoE', 'QsE', 'hand', 'tp10', 'wf_01', 'wr_12', \n",
    "             'QeA', 'QeE', 'wr_11', 'QcA', 'tp02', 'wr_10']"
   ]
  },
  {
   "cell_type": "code",
   "execution_count": 10,
   "metadata": {},
   "outputs": [],
   "source": [
    "test_gpu = { 'max_depth' : 12,\n",
    "        'n_estimators' : 200,\n",
    "        'learning_rate' : 0.010,\n",
    "         'min_child_weight' : 6,\n",
    "         'colsample_bytree' : 0.8,\n",
    "        'verbosity' : 0,\n",
    "        'objective' : 'binary:logistic',\n",
    "        'booster' : 'gbtree',\n",
    "        'subsample' : 0.8,\n",
    "        'tree_method' : 'gpu_hist'\n",
    "       }"
   ]
  },
  {
   "cell_type": "code",
   "execution_count": 11,
   "metadata": {
    "scrolled": false
   },
   "outputs": [
    {
     "name": "stdout",
     "output_type": "stream",
     "text": [
      "Training : 223.98s\n",
      "0.903820\n"
     ]
    }
   ],
   "source": [
    "model2 = xgb_pred_per(test_gpu, [])"
   ]
  },
  {
   "cell_type": "code",
   "execution_count": 13,
   "metadata": {
    "collapsed": true
   },
   "outputs": [
    {
     "data": {
      "text/plain": [
       "<AxesSubplot:title={'center':'Feature importance'}, xlabel='F score', ylabel='Features'>"
      ]
     },
     "execution_count": 13,
     "metadata": {},
     "output_type": "execute_result"
    },
    {
     "data": {
      "image/png": "[encoded data removed]",
      "text/plain": [
       "<Figure size 1080x1440 with 1 Axes>"
      ]
     },
     "metadata": {
      "needs_background": "light"
     },
     "output_type": "display_data"
    }
   ],
   "source": [
    "fig, ax = plt.subplots(figsize=(15,20))\n",
    "plot_importance(model2, ax=ax)"
   ]
  },
  {
   "cell_type": "markdown",
   "metadata": {},
   "source": [
    "# LightGBM"
   ]
  },
  {
   "cell_type": "code",
   "execution_count": 9,
   "metadata": {},
   "outputs": [],
   "source": [
    "def lgbm_pred_per(param,bad_arr):\n",
    "\n",
    "    train_x = preprocess(train,'train',bad_arr)\n",
    "    train_y = train_x['voted']\n",
    "    train_x = train_x.drop(['voted'],axis=1)\n",
    "    test_x = preprocess(test,'test',bad_arr)\n",
    "    \n",
    "    model = LGBMClassifier(**param)\n",
    "    model.fit(train_x,train_y, verbose=False)\n",
    "\n",
    "\n",
    "    print(f'{param[\"max_depth\"]}_{param[\"num_leaves\"]}_{param[\"n_estimators\"]}_{param[\"learning_rate\"]:.3f}_{param[\"min_child_weight\"]:02d}_{param[\"colsample_bytree\"]:.2f}_{param[\"feature_fraction\"]:.2f}_{param[\"bagging_fraction\"]:.2f}_{param[\"lambda_l1\"]:.2f}_{param[\"lambda_l2\"]:.2f} : ', end=' ')\n",
    "    pred_auc = train_auc([model], train_x, train_y)\n",
    "    print(f'{pred_auc:.4f}')\n",
    "    file_name = f'lgbm_{param[\"max_depth\"]}_{param[\"num_leaves\"]}_{param[\"n_estimators\"]}_{param[\"learning_rate\"]:.3f}_{param[\"min_child_weight\"]:02d}_{param[\"colsample_bytree\"]:.2f}_{param[\"feature_fraction\"]:.2f}_{param[\"bagging_fraction\"]:.2f}_{param[\"lambda_l1\"]:.2f}_{param[\"lambda_l2\"]:.2f}_{pred_auc:.4f}'\n",
    "    submission(test_x,[model],file_name)\n",
    "    \n",
    "    return model"
   ]
  },
  {
   "cell_type": "code",
   "execution_count": 10,
   "metadata": {},
   "outputs": [],
   "source": [
    "lgbm_opt= { 'max_depth' : 5, \n",
    "            'num_leaves' : 359,\n",
    "            'n_estimators' : 581,\n",
    "            'learning_rate' : 0.05,\n",
    "            'min_child_weight' : 37,\n",
    "            'colsample_bytree' : 0.67,\n",
    "            'feature_fraction' : 0.77,\n",
    "            'bagging_fraction' : 0.91,\n",
    "            'lambda_l1' : 0.41,\n",
    "            'lambda_l2' : 0.09,\n",
    "            'objective' : 'binary',\n",
    "            'boosting_type' : 'dart'\n",
    "            }"
   ]
  },
  {
   "cell_type": "code",
   "execution_count": 23,
   "metadata": {},
   "outputs": [],
   "source": [
    "lgbm_arr = ['QaE', 'QbA', 'QeA', 'QfE', 'QgE', 'QhA', 'QjA', 'QmA', 'QmE', 'QnA', 'QoA', 'QoE', 'QpE', 'QtA', 'tp03', 'tp09', 'wf_02', 'wf_03', 'tp_score_2', 'tp_score_4', 'QkE', 'QlA', 'QsA', 'QsE', 'tp01', 'wr_13', 'QdA', 'QeE', 'QrE', 'hand']\n"
   ]
  },
  {
   "cell_type": "code",
   "execution_count": 12,
   "metadata": {
    "scrolled": true
   },
   "outputs": [
    {
     "name": "stdout",
     "output_type": "stream",
     "text": [
      "[LightGBM] [Warning] feature_fraction is set=0.77, colsample_bytree=0.67 will be ignored. Current value: feature_fraction=0.77\n",
      "[LightGBM] [Warning] lambda_l1 is set=0.41, reg_alpha=0.0 will be ignored. Current value: lambda_l1=0.41\n",
      "[LightGBM] [Warning] bagging_fraction is set=0.91, subsample=1.0 will be ignored. Current value: bagging_fraction=0.91\n",
      "[LightGBM] [Warning] lambda_l2 is set=0.09, reg_lambda=0.0 will be ignored. Current value: lambda_l2=0.09\n",
      "5_359_581_0.050_37_0.67_0.77_0.91_0.41_0.09 :  0.7930\n"
     ]
    }
   ],
   "source": [
    "model2 = lgbm_pred_per(lgbm_opt,opt_arr_2)"
   ]
  },
  {
   "cell_type": "markdown",
   "metadata": {},
   "source": [
    "# Ensemble"
   ]
  },
  {
   "cell_type": "code",
   "execution_count": 14,
   "metadata": {},
   "outputs": [],
   "source": [
    "def train_models(types ,params, arr):\n",
    "    \n",
    "    assert len(params)==len(types), 'Num mismatch'\n",
    "    \n",
    "    model_list = []\n",
    "    \n",
    "    train_x = preprocess(train,'train',arr)\n",
    "    train_y = train_x['voted']\n",
    "    train_x = train_x.drop(['voted'],axis=1)\n",
    "    \n",
    "    for i in range(len(types)):\n",
    "        \n",
    "        if types[i]=='xgb':\n",
    "            model = XGBClassifier(**params[i])\n",
    "            model.fit(train_x,train_y, verbose=False)\n",
    "        elif types[i]=='lgbm':\n",
    "            model = LGBMClassifier(**params[i])\n",
    "            model.fit(train_x,train_y, verbose=False)\n",
    "        else : \n",
    "            print('Wrong model type')\n",
    "        \n",
    "        model_list.append(model)\n",
    "    \n",
    "    return model_list"
   ]
  },
  {
   "cell_type": "code",
   "execution_count": 21,
   "metadata": {},
   "outputs": [],
   "source": [
    "def ensemble(types,params,arr, r):\n",
    "    \n",
    "    model_arr = train_models(types,params,arr)\n",
    "    num_model = len(model_arr)\n",
    "    \n",
    "    assert num_model==len(r), 'ratio mismatch'\n",
    "    \n",
    "    test_x = preprocess(test,'test',arr)\n",
    "    score = np.zeros((test_x.shape[0],2))\n",
    "    \n",
    "    for i in range(num_model):\n",
    "        score += model_arr[i].predict_proba(test_x)*r[i]\n",
    "\n",
    "    data = {'index':test['index'],'voted':score[:,1]}\n",
    "    submission = DataFrame(data)\n",
    "    \n",
    "    file_name = 'ensemble_opt_arr_1'\n",
    "    for i in range(num_model):\n",
    "        file_name = file_name + f'_{r[i]}'\n",
    "        \n",
    "    submission.to_csv('./submission/'+file_name+'.csv',index=False)\n",
    "\n",
    "    return model_arr"
   ]
  },
  {
   "cell_type": "code",
   "execution_count": 83,
   "metadata": {},
   "outputs": [],
   "source": [
    "xgb_1 = { 'max_depth' : 8,\n",
    "        'n_estimators' : 200,\n",
    "        'learning_rate' : 0.01,\n",
    "         'min_child_weight' : 6,\n",
    "         'colsample_bytree' : 0.8,\n",
    "        'verbosity' : 0,\n",
    "        'objective' : 'binary:logistic',\n",
    "        'booster' : 'gbtree',\n",
    "        'subsample' : 0.8}\n",
    "\n",
    "xgb_2 = { 'max_depth' : 8,\n",
    "        'n_estimators' : 250,\n",
    "        'learning_rate' : 0.01,\n",
    "         'min_child_weight' : 1,\n",
    "         'colsample_bytree' : 0.8,\n",
    "        'verbosity' : 0,\n",
    "        'objective' : 'binary:logistic',\n",
    "        'booster' : 'gbtree',\n",
    "        'subsample' : 0.8}\n",
    "\n",
    "lgbm_1 = { 'max_depth' : 5, \n",
    "            'num_leaves' : 359,\n",
    "            'n_estimators' : 581,\n",
    "            'learning_rate' : 0.05,\n",
    "            'min_child_weight' : 37,\n",
    "            'colsample_bytree' : 0.67,\n",
    "            'feature_fraction' : 0.77,\n",
    "            'bagging_fraction' : 0.91,\n",
    "            'lambda_l1' : 0.41,\n",
    "            'lambda_l2' : 0.09,\n",
    "            'objective' : 'binary',\n",
    "            'boosting_type' : 'dart'\n",
    "            }\n",
    "\n",
    "lgbm_2 = { 'max_depth' : 5, \n",
    "            'num_leaves' : 359,\n",
    "            'n_estimators' : 581,\n",
    "            'learning_rate' : 0.05,\n",
    "            'min_child_weight' : 37,\n",
    "            'colsample_bytree' : 0.67,\n",
    "            'feature_fraction' : 0.77,\n",
    "            'bagging_fraction' : 0.91,\n",
    "            'lambda_l1' : 0.41,\n",
    "            'lambda_l2' : 0.09,\n",
    "            'objective' : 'binary',\n",
    "            'boosting_type' : 'dart'\n",
    "            }"
   ]
  },
  {
   "cell_type": "code",
   "execution_count": 18,
   "metadata": {},
   "outputs": [],
   "source": [
    "lgbm_opt= { 'max_depth' : 5, \n",
    "            'num_leaves' : 359,\n",
    "            'n_estimators' : 581,\n",
    "            'learning_rate' : 0.05,\n",
    "            'min_child_weight' : 37,\n",
    "            'colsample_bytree' : 0.67,\n",
    "            'feature_fraction' : 0.77,\n",
    "            'bagging_fraction' : 0.91,\n",
    "            'lambda_l1' : 0.41,\n",
    "            'lambda_l2' : 0.09,\n",
    "            'objective' : 'binary',\n",
    "            'boosting_type' : 'dart'\n",
    "            }"
   ]
  },
  {
   "cell_type": "code",
   "execution_count": 20,
   "metadata": {
    "scrolled": false
   },
   "outputs": [
    {
     "name": "stdout",
     "output_type": "stream",
     "text": [
      "[LightGBM] [Warning] feature_fraction is set=0.77, colsample_bytree=0.67 will be ignored. Current value: feature_fraction=0.77\n",
      "[LightGBM] [Warning] lambda_l1 is set=0.41, reg_alpha=0.0 will be ignored. Current value: lambda_l1=0.41\n",
      "[LightGBM] [Warning] bagging_fraction is set=0.91, subsample=1.0 will be ignored. Current value: bagging_fraction=0.91\n",
      "[LightGBM] [Warning] lambda_l2 is set=0.09, reg_lambda=0.0 will be ignored. Current value: lambda_l2=0.09\n"
     ]
    }
   ],
   "source": [
    "model_list = ensemble(['xgb','lgbm'], [opt,lgbm_opt], opt_arr_1, [0.78, 0.21])"
   ]
  },
  {
   "cell_type": "code",
   "execution_count": 23,
   "metadata": {},
   "outputs": [],
   "source": [
    "lgbm_opt_arr = ['tp_score_2', 'QaE', 'QgE', 'QhA', 'QjA', 'QmA', 'QoA', 'QoE', \n",
    "                'QpE', 'QrE', 'tp09', 'wf_02', 'tp_score_4', 'QbA', 'QfE', 'QiA', \n",
    "                'QlE', 'QtA', 'tp04', 'QsA', 'tp01', 'wr_13', 'QmE', 'QsE', 'wf_03']"
   ]
  },
  {
   "cell_type": "code",
   "execution_count": 25,
   "metadata": {},
   "outputs": [],
   "source": [
    "def train_models_(types ,params, arrs):\n",
    "    \n",
    "    assert len(params)==len(types), 'Num mismatch'\n",
    "    \n",
    "    model_list = []\n",
    "    \n",
    "    for i in range(len(types)):\n",
    "        train_x = preprocess(train,'train',arrs[i])\n",
    "        train_y = train_x['voted']\n",
    "        train_x = train_x.drop(['voted'],axis=1)\n",
    "        \n",
    "        if types[i]=='xgb':\n",
    "            model = XGBClassifier(**params[i])\n",
    "            model.fit(train_x,train_y, verbose=False)\n",
    "        elif types[i]=='lgbm':\n",
    "            model = LGBMClassifier(**params[i])\n",
    "            model.fit(train_x,train_y, verbose=False)\n",
    "        else : \n",
    "            print('Wrong model type')\n",
    "        \n",
    "        model_list.append(model)\n",
    "    \n",
    "    return model_list"
   ]
  },
  {
   "cell_type": "code",
   "execution_count": 33,
   "metadata": {},
   "outputs": [],
   "source": [
    "def ensemble_(types,params,arrs, r):\n",
    "    \n",
    "    model_arr = train_models_(types,params,arrs)\n",
    "    num_model = len(model_arr)\n",
    "    \n",
    "    assert num_model==len(r), 'ratio mismatch'\n",
    "    \n",
    "    sc = np.zeros((train.shape[0],2))\n",
    "    for i in range(num_model):\n",
    "        tr_x = preprocess(train,'test',arrs[i])\n",
    "        tr_y = tr_x['voted']\n",
    "        tr_x = tr_x.drop(['voted'],axis=1)\n",
    "        sc += model_arr[i].predict_proba(tr_x)*r[i]\n",
    "    print(roc_auc_score(tr_y,sc[:,1]))\n",
    "\n",
    "    score = np.zeros((test.shape[0],2))\n",
    "    for i in range(num_model):\n",
    "        test_x = preprocess(test,'test',arrs[i])\n",
    "        score += model_arr[i].predict_proba(test_x)*r[i]\n",
    "\n",
    "    data = {'index':test['index'],'voted':score[:,1]}\n",
    "    submission = DataFrame(data)\n",
    "    \n",
    "    file_name = 'ensemble_opt_arr_1'\n",
    "    for i in range(num_model):\n",
    "        file_name = file_name + f'_{r[i]}'\n",
    "        \n",
    "    submission.to_csv('./submission/'+file_name+'.csv',index=False)\n",
    "\n",
    "    return model_arr"
   ]
  },
  {
   "cell_type": "code",
   "execution_count": 35,
   "metadata": {},
   "outputs": [
    {
     "name": "stdout",
     "output_type": "stream",
     "text": [
      "[LightGBM] [Warning] feature_fraction is set=0.77, colsample_bytree=0.67 will be ignored. Current value: feature_fraction=0.77\n",
      "[LightGBM] [Warning] lambda_l1 is set=0.41, reg_alpha=0.0 will be ignored. Current value: lambda_l1=0.41\n",
      "[LightGBM] [Warning] bagging_fraction is set=0.91, subsample=1.0 will be ignored. Current value: bagging_fraction=0.91\n",
      "[LightGBM] [Warning] lambda_l2 is set=0.09, reg_lambda=0.0 will be ignored. Current value: lambda_l2=0.09\n",
      "0.809425071330867\n"
     ]
    }
   ],
   "source": [
    "model_list1 = ensemble_(['xgb','lgbm'], [opt,lgbm_opt], [opt_arr_3,lgbm_opt_arr], [0.76, 0.24])"
   ]
  },
  {
   "cell_type": "code",
   "execution_count": 36,
   "metadata": {},
   "outputs": [
    {
     "name": "stdout",
     "output_type": "stream",
     "text": [
      "[LightGBM] [Warning] feature_fraction is set=0.77, colsample_bytree=0.67 will be ignored. Current value: feature_fraction=0.77\n",
      "[LightGBM] [Warning] lambda_l1 is set=0.41, reg_alpha=0.0 will be ignored. Current value: lambda_l1=0.41\n",
      "[LightGBM] [Warning] bagging_fraction is set=0.91, subsample=1.0 will be ignored. Current value: bagging_fraction=0.91\n",
      "[LightGBM] [Warning] lambda_l2 is set=0.09, reg_lambda=0.0 will be ignored. Current value: lambda_l2=0.09\n",
      "0.8063089379077804\n"
     ]
    }
   ],
   "source": [
    "model_list1 = ensemble_(['xgb','lgbm'], [opt,lgbm_opt], [opt_arr_1,lgbm_opt_arr], [0.62, 0.38])"
   ]
  },
  {
   "cell_type": "code",
   "execution_count": null,
   "metadata": {},
   "outputs": [],
   "source": []
  }
 ],
 "metadata": {
  "kernelspec": {
   "display_name": "Python 3",
   "language": "python",
   "name": "python3"
  },
  "language_info": {
   "codemirror_mode": {
    "name": "ipython",
    "version": 3
   },
   "file_extension": ".py",
   "mimetype": "text/x-python",
   "name": "python",
   "nbconvert_exporter": "python",
   "pygments_lexer": "ipython3",
   "version": "3.8.5"
  }
 },
 "nbformat": 4,
 "nbformat_minor": 4
}
