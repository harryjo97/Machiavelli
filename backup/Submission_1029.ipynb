{
 "cells": [
  {
   "cell_type": "markdown",
   "metadata": {},
   "source": [
    "# Import"
   ]
  },
  {
   "cell_type": "code",
   "execution_count": 1,
   "metadata": {},
   "outputs": [],
   "source": [
    "import pandas as pd\n",
    "from pandas import DataFrame\n",
    "import numpy as np\n",
    "\n",
    "import matplotlib.pyplot as plt\n",
    "plt.style.use('fivethirtyeight')\n",
    "import seaborn as sns\n",
    "%matplotlib inline\n",
    "\n",
    "from sklearn.model_selection import train_test_split, KFold\n",
    "from sklearn.metrics import *\n",
    "import itertools\n",
    "\n",
    "import os\n",
    "\n",
    "import xgboost as xgb \n",
    "from xgboost import plot_importance , XGBClassifier\n",
    "\n",
    "import lightgbm as lgbm\n",
    "from lightgbm import LGBMClassifier\n",
    "\n",
    "from keras.utils.np_utils import to_categorical \n",
    "from keras.models import *\n",
    "from keras.layers import *\n",
    "from keras.optimizers import *\n",
    "from keras.callbacks import *\n",
    "\n",
    "from tqdm import tqdm, notebook\n",
    "import time"
   ]
  },
  {
   "cell_type": "markdown",
   "metadata": {},
   "source": [
    "# Read Data"
   ]
  },
  {
   "cell_type": "code",
   "execution_count": 2,
   "metadata": {},
   "outputs": [],
   "source": [
    "train_original = pd.read_csv('./open data/train.csv')\n",
    "test_original = pd.read_csv('./open data/test_x.csv')\n",
    "train = train_original.copy()\n",
    "test = test_original.copy()"
   ]
  },
  {
   "cell_type": "code",
   "execution_count": 3,
   "metadata": {},
   "outputs": [],
   "source": [
    "# fill NA\n",
    "def fill_married(data):\n",
    "    pdata = data.copy()\n",
    "    pdata.loc[ (pdata.married==0)&(pdata.age_group=='10s'),'married' ] = 1\n",
    "    pdata.loc[ (pdata.married==0)&(pdata.age_group=='20s'),'married' ] = 1\n",
    "    pdata.loc[pdata.married==0,'married'] = 2\n",
    "    \n",
    "    return pdata\n",
    "\n",
    "def fill_education(data):\n",
    "    pdata = data.copy()\n",
    "    pdata.loc[(pdata.education==0)&(pdata.age_group=='10s'),'education'] = 2\n",
    "    pdata.loc[pdata.education==0,'education'] = 3\n",
    "\n",
    "    return pdata\n",
    "\n",
    "def fill_engnat(data):\n",
    "    pdata = data.copy()\n",
    "    pdata.loc[pdata.engnat==0,'engnat'] = 1\n",
    "    \n",
    "    return pdata\n",
    "\n",
    "def fill_hand(data):\n",
    "    pdata = data.copy()\n",
    "    pdata.loc[pdata.hand==0,'hand'] = 1\n",
    "    \n",
    "    return pdata\n",
    "# feature engineering\n",
    "def Mach_score(data):\n",
    "    pdata = data.copy()\n",
    "    Answers = []\n",
    "    for i in range(20):\n",
    "        Answers.append('Q'+chr(97+i)+'A')\n",
    "    reverse_col = ['QeA','QfA','QkA','QqA','QrA','QaA','QdA','QgA','QiA','QnA']\n",
    "    for col in reverse_col:\n",
    "        pdata[col] = -pdata[col]\n",
    "    pdata['Mach_score'] = pdata[Answers].sum(axis=1)\n",
    "    \n",
    "    return pdata\n",
    "\n",
    "def w_score(data):\n",
    "    pdata = data.copy()\n",
    "    wr = []\n",
    "    wf = []\n",
    "    for i in range(1,14):\n",
    "        wr.append(f'wr_{i:02d}')\n",
    "    for i in range(1,4):\n",
    "        wf.append(f'wf_{i:02d}')\n",
    "    \n",
    "    pdata['wr'] = pdata[wr].sum(axis=1)\n",
    "    pdata['wf'] = pdata[wf].sum(axis=1)\n",
    "    \n",
    "    return pdata\n",
    "\n",
    "def TIPI(data):\n",
    "    pdata = data.copy()\n",
    "    pdata['tp_score_1'] = pdata['tp01'] - pdata['tp06']\n",
    "    pdata['tp_score_2'] = pdata['tp07'] - pdata['tp02']\n",
    "    pdata['tp_score_3'] = pdata['tp03'] - pdata['tp08']\n",
    "    pdata['tp_score_4'] = pdata['tp09'] - pdata['tp04']\n",
    "    pdata['tp_score_5'] = pdata['tp05'] - pdata['tp10']\n",
    "    \n",
    "    return pdata\n",
    "\n",
    "# drop outlier\n",
    "def drop_outlier(data, datatype):\n",
    "    \n",
    "    assert datatype == 'train' or datatype=='test', 'Wrong data type given'\n",
    "    \n",
    "    pdata = data.copy()\n",
    "    if datatype=='train':\n",
    "        \n",
    "        out_arr = []\n",
    "        out_arr.append( np.where(data['familysize']>=16)[0] )\n",
    "        out_arr.append( np.where(data.wr<=3)[0] )\n",
    "        out_arr.append( np.where(data.wf>=2)[0] )\n",
    "\n",
    "        out = []\n",
    "        for outarr in out_arr:\n",
    "            out = np.union1d(out, outarr)\n",
    "\n",
    "        pdata = data.drop(out)\n",
    "    \n",
    "    return pdata\n",
    "# feature banding\n",
    "def age_band(data):\n",
    "    pdata = data.copy()\n",
    "    pdata['age_group'].replace(['10s','20s','30s','40s','50s','60s','+70s'],[1,2,3,4,5,5,5],inplace=True)\n",
    "    \n",
    "    return pdata\n",
    "\n",
    "def E_band(data, num_band):\n",
    "    pdata = data.copy()\n",
    "    for i in range(20):\n",
    "        col = 'Q'+chr(i+97)+'E'\n",
    "        pdata[col] = pd.qcut(pdata[col],num_band)\n",
    "        unique = pdata[col].unique()\n",
    "        pdata[col].replace(unique,range(num_band),inplace=True)\n",
    "        \n",
    "    return pdata\n",
    "\n",
    "def family_band(data):\n",
    "    pdata = data.copy()\n",
    "    pdata.loc[pdata.familysize >= 6,'familysize'] = 6\n",
    "    \n",
    "    return pdata\n",
    "# categorical value to numerical value\n",
    "def cat_gender(data):\n",
    "    feature = 'gender'\n",
    "    pdata = data.copy()\n",
    "    pdata[feature].replace(['Male','Female'],[0,1],inplace=True)\n",
    "    \n",
    "    return pdata\n",
    "\n",
    "def cat_race(data):\n",
    "    feature = 'race'\n",
    "    pdata = data.copy()\n",
    "    unique = ['White', 'Asian', 'Other', 'Black', 'Native American', 'Arab', 'Indigenous Australian']\n",
    "    pdata[feature].replace(unique,[0,1,2,3,4,5,6],inplace=True)\n",
    "    \n",
    "    return pdata\n",
    "\n",
    "def cat_religion(data):\n",
    "    feature = 'religion'\n",
    "    pdata = data.copy()\n",
    "    unique = ['Other', 'Hindu', 'Agnostic', 'Atheist', 'Christian_Other',\n",
    "       'Christian_Catholic', 'Muslim', 'Buddhist', 'Christian_Protestant',\n",
    "       'Jewish', 'Christian_Mormon', 'Sikh']\n",
    "    pdata[feature].replace(unique,[11,10,0,1,2,3,4,5,6,7,8,9],inplace=True)\n",
    "    \n",
    "    return pdata\n",
    "\n",
    "def cat_num(data):\n",
    "    pdata = data.copy()\n",
    "    pdata = cat_gender(pdata)\n",
    "    pdata = cat_race(pdata)\n",
    "    pdata = cat_religion(pdata)\n",
    "    \n",
    "    return pdata\n",
    "# drop feature\n",
    "def drop_feature(data, feature_arr=[]):\n",
    "    feature_arr += ['index'] \n",
    "    \n",
    "    for i in range(20):\n",
    "        feature_arr.append('Q'+chr(i+97)+'A')\n",
    "    for i in range(20):\n",
    "        feature_arr.append('Q'+chr(i+97)+'E')\n",
    "    for i in range(1,14):\n",
    "        feature_arr.append(f'wr_{i:02d}')\n",
    "    for i in range(1,4):\n",
    "        feature_arr.append(f'wf_{i:02d}')\n",
    "    for i in range(1,11):\n",
    "        feature_arr.append(f'tp{i:02d}')\n",
    "    \n",
    "\n",
    "    pdata = data.drop(feature_arr,axis=1)\n",
    "    \n",
    "    return pdata\n"
   ]
  },
  {
   "cell_type": "code",
   "execution_count": 4,
   "metadata": {},
   "outputs": [],
   "source": [
    "def preprocess(data, datatype, feature_arr=[]):\n",
    "    \n",
    "    pdata = data.copy()\n",
    "    # fill NA\n",
    "    pdata = fill_married(pdata)\n",
    "    pdata = fill_education(pdata)\n",
    "    pdata = fill_engnat(pdata)\n",
    "    pdata = fill_hand(pdata)\n",
    "    # feature engineering\n",
    "    pdata = Mach_score(pdata)\n",
    "    pdata = w_score(pdata)\n",
    "    pdata = TIPI(pdata)\n",
    "    # drop outlier\n",
    "    pdata = drop_outlier(pdata,datatype)\n",
    "    # feature banding\n",
    "    pdata = age_band(pdata)\n",
    "    pdata = family_band(pdata)\n",
    "    pdata = E_band(pdata,10)\n",
    "    # categorical value to numerical value\n",
    "    pdata = cat_num(pdata)\n",
    "    # drop feature\n",
    "    pdata = drop_feature(pdata, feature_arr)\n",
    "    # unify type of data\n",
    "    pdata = pdata.astype(np.int)\n",
    "    \n",
    "    return pdata"
   ]
  },
  {
   "cell_type": "code",
   "execution_count": 5,
   "metadata": {},
   "outputs": [],
   "source": [
    "def submission(test_data, model_arr,file_name):\n",
    "    score = np.zeros((test_data.shape[0],2))\n",
    "    num_model = len(model_arr)\n",
    "    for i in range(num_model):\n",
    "        score += model_arr[i].predict_proba(test_data)\n",
    "    pred = np.divide(score,num_model)[:,1]\n",
    "    data = {'index':test['index'],'voted':pred}\n",
    "    submission = DataFrame(data)\n",
    "    submission.to_csv('./submission/'+file_name+'.csv',index=False)\n",
    "    \n",
    "    return pred"
   ]
  },
  {
   "cell_type": "code",
   "execution_count": 6,
   "metadata": {},
   "outputs": [],
   "source": [
    "def train_auc(model_arr, data, label):\n",
    "    score = np.zeros((data.shape[0],2))\n",
    "    num_model = len(model_arr)\n",
    "    for i in range(num_model):\n",
    "        score += model_arr[i].predict_proba(data)\n",
    "    pred = np.divide(score,num_model)[:,1]\n",
    "    \n",
    "    return roc_auc_score(label, pred)"
   ]
  },
  {
   "cell_type": "markdown",
   "metadata": {},
   "source": [
    "# KFold "
   ]
  },
  {
   "cell_type": "markdown",
   "metadata": {},
   "source": [
    "# XGBoost"
   ]
  },
  {
   "cell_type": "code",
   "execution_count": 25,
   "metadata": {},
   "outputs": [],
   "source": [
    "def xgb_pred(param):\n",
    "    \n",
    "    train_x = preprocess(train,'train')\n",
    "    train_y = train_x['voted']\n",
    "    train_x = train_x.drop(['voted'],axis=1)\n",
    "    test_x = preprocess(test,'test')\n",
    "\n",
    "    model = XGBClassifier(**param)\n",
    "    \n",
    "    start_train = time.time()\n",
    "    model.fit(train_x,train_y, verbose=False)\n",
    "    print(f'Training : {time.time()-start_train:.2f}s')\n",
    "    \n",
    "    print(f'{param[\"max_depth\"]}_{param[\"n_estimators\"]}_{param[\"learning_rate\"]:.3f}_{param[\"min_child_weight\"]:02d}_{param[\"colsample_bytree\"]:.2f}', end=' ')\n",
    "    pred_auc = train_auc([model], train_x, train_y)\n",
    "    print(f'{pred_auc:.4f}')\n",
    "    file_name = f'xgb_{param[\"max_depth\"]}_{param[\"n_estimators\"]}_{param[\"learning_rate\"]:.3f}_{param[\"min_child_weight\"]:02d}_{param[\"colsample_bytree\"]:.2f}_{pred_auc:.4f}'\n",
    "    submission(test_x,[model],file_name)\n",
    "    \n",
    "    return model"
   ]
  },
  {
   "cell_type": "code",
   "execution_count": 26,
   "metadata": {},
   "outputs": [],
   "source": [
    "opt = { 'max_depth' : 8,\n",
    "        'n_estimators' : 200,\n",
    "        'learning_rate' : 0.010,\n",
    "         'min_child_weight' : 6,\n",
    "         'colsample_bytree' : 0.8,\n",
    "        'verbosity' : 0,\n",
    "        'objective' : 'binary:logistic',\n",
    "        'booster' : 'gbtree',\n",
    "        'subsample' : 0.8}"
   ]
  },
  {
   "cell_type": "code",
   "execution_count": 27,
   "metadata": {},
   "outputs": [
    {
     "name": "stdout",
     "output_type": "stream",
     "text": [
      "Training : 2.45s\n",
      "8_200_0.010_06_0.80 0.8067\n"
     ]
    }
   ],
   "source": [
    "model1 = xgb_pred(opt)"
   ]
  },
  {
   "cell_type": "code",
   "execution_count": 28,
   "metadata": {
    "collapsed": true
   },
   "outputs": [
    {
     "data": {
      "text/plain": [
       "<AxesSubplot:title={'center':'Feature importance'}, xlabel='F score', ylabel='Features'>"
      ]
     },
     "execution_count": 28,
     "metadata": {},
     "output_type": "execute_result"
    },
    {
     "data": {
      "image/png": "[encoded data removed]",
      "text/plain": [
       "<Figure size 1080x1440 with 1 Axes>"
      ]
     },
     "metadata": {
      "needs_background": "light"
     },
     "output_type": "display_data"
    }
   ],
   "source": [
    "fig, ax = plt.subplots(figsize=(15,20))\n",
    "plot_importance(model1, ax=ax)"
   ]
  },
  {
   "cell_type": "code",
   "execution_count": null,
   "metadata": {},
   "outputs": [],
   "source": []
  },
  {
   "cell_type": "code",
   "execution_count": 29,
   "metadata": {},
   "outputs": [],
   "source": [
    "def xgb_pred_per(param, bad_arr):\n",
    "    \n",
    "    train_x = preprocess(train,'train',bad_arr)\n",
    "    train_y = train_x['voted']\n",
    "    train_x = train_x.drop(['voted'],axis=1)\n",
    "    test_x = preprocess(test,'test',bad_arr)\n",
    "\n",
    "    model = XGBClassifier(**param)\n",
    "    \n",
    "    start_train = time.time()\n",
    "    model.fit(train_x,train_y, verbose=False)\n",
    "    print(f'Training : {time.time()-start_train:.2f}s')\n",
    "    \n",
    "    print(f'{param[\"max_depth\"]}_{param[\"n_estimators\"]}_{param[\"learning_rate\"]:.3f}_{param[\"min_child_weight\"]:02d}_{param[\"colsample_bytree\"]:.2f}', end=' ')\n",
    "    pred_auc = train_auc([model], train_x, train_y)\n",
    "    print(f'{pred_auc:.4f}')\n",
    "    file_name = f'xgb_{param[\"max_depth\"]}_{param[\"n_estimators\"]}_{param[\"learning_rate\"]:.3f}_{param[\"min_child_weight\"]:02d}_{param[\"colsample_bytree\"]:.2f}_{pred_auc:.4f}'\n",
    "    submission(test_x,[model],file_name)\n",
    "    \n",
    "    return model"
   ]
  },
  {
   "cell_type": "code",
   "execution_count": 30,
   "metadata": {},
   "outputs": [],
   "source": [
    "opt = { 'max_depth' : 8,\n",
    "        'n_estimators' : 200,\n",
    "        'learning_rate' : 0.010,\n",
    "         'min_child_weight' : 6,\n",
    "         'colsample_bytree' : 0.8,\n",
    "        'verbosity' : 0,\n",
    "        'objective' : 'binary:logistic',\n",
    "        'booster' : 'gbtree',\n",
    "        'subsample' : 0.8}"
   ]
  },
  {
   "cell_type": "code",
   "execution_count": 39,
   "metadata": {},
   "outputs": [
    {
     "name": "stdout",
     "output_type": "stream",
     "text": [
      "Training : 2.04s\n",
      "8_200_0.010_06_0.80 0.8034\n"
     ]
    }
   ],
   "source": [
    "model2 = xgb_pred_per(opt,['tp_score_4','wf','hand'])"
   ]
  },
  {
   "cell_type": "code",
   "execution_count": 38,
   "metadata": {},
   "outputs": [
    {
     "data": {
      "text/plain": [
       "<AxesSubplot:title={'center':'Feature importance'}, xlabel='F score', ylabel='Features'>"
      ]
     },
     "execution_count": 38,
     "metadata": {},
     "output_type": "execute_result"
    },
    {
     "data": {
      "image/png": "[encoded data removed]",
      "text/plain": [
       "<Figure size 1080x1440 with 1 Axes>"
      ]
     },
     "metadata": {
      "needs_background": "light"
     },
     "output_type": "display_data"
    }
   ],
   "source": [
    "fig, ax = plt.subplots(figsize=(15,20))\n",
    "plot_importance(model2, ax=ax)"
   ]
  },
  {
   "cell_type": "code",
   "execution_count": null,
   "metadata": {},
   "outputs": [],
   "source": []
  },
  {
   "cell_type": "code",
   "execution_count": null,
   "metadata": {},
   "outputs": [],
   "source": []
  },
  {
   "cell_type": "code",
   "execution_count": 55,
   "metadata": {},
   "outputs": [],
   "source": [
    "def xgb_pred_bo(max_depth, n_estimators, learning_rate, weight, col_sample, subsample, reg_l, reg_a):\n",
    "    \n",
    "    train_x = preprocess(train,'train')\n",
    "    train_y = train_x['voted']\n",
    "    train_x = train_x.drop(['voted'],axis=1)\n",
    "    test_x = preprocess(test,'test')\n",
    "    \n",
    "    param = { 'max_depth' : max_depth, \n",
    "            'n_estimators' : n_estimators,\n",
    "            'learning_rate' : learning_rate,\n",
    "            'min_child_weight' : weight,\n",
    "            'colsample_bytree' : col_sample,\n",
    "            'subsample' : subsample,\n",
    "            'reg_lambda' : reg_l,\n",
    "            'reg_alpha' : reg_a,\n",
    "            'verbosity' : 0,\n",
    "            'objective' : 'binary:logistic',\n",
    "            'booster' : 'gbtree'\n",
    "            }\n",
    "\n",
    "    model = XGBClassifier(**param)\n",
    "    model.fit(train_x,train_y, verbose=False)\n",
    "    \n",
    "    print(f'{max_depth}_{n_estimators}_{learning_rate:.3f}_{weight:02d}_{col_sample:.2f}_{subsample:.2f}_{reg_l:.2f}_{reg_a:.2f} : ', end=' ')\n",
    "    pred_auc = train_auc([model], train_x, train_y)\n",
    "    print(f'{pred_auc:.4f}')\n",
    "    file_name = f'xgb_bo_{max_depth}_{n_estimators}_{learning_rate:.3f}_{weight:02d}_{col_sample:.2f}_{subsample:.2f}_{reg_l:.2f}_{reg_a:.2f}_{pred_auc:.4f}'\n",
    "    submission(test_x,[model],file_name)\n",
    "    \n",
    "    return model"
   ]
  },
  {
   "cell_type": "code",
   "execution_count": 56,
   "metadata": {},
   "outputs": [
    {
     "name": "stdout",
     "output_type": "stream",
     "text": [
      "4_569_0.110_48_0.23_0.80_0.38_0.92 :  0.7874\n"
     ]
    }
   ],
   "source": [
    "model2 = xgb_pred_bo(max_depth=4, n_estimators=569, learning_rate=0.11, weight=48, col_sample=0.23, subsample=0.80, reg_l=0.38, reg_a=0.92)"
   ]
  },
  {
   "cell_type": "markdown",
   "metadata": {},
   "source": [
    "# LightGBM"
   ]
  },
  {
   "cell_type": "code",
   "execution_count": 43,
   "metadata": {},
   "outputs": [],
   "source": [
    "def lgbm(param,bad_arr):\n",
    "\n",
    "    train_x = preprocess(train,'train',bad_arr)\n",
    "    train_y = train_x['voted']\n",
    "    train_x = train_x.drop(['voted'],axis=1)\n",
    "    test_x = preprocess(test,'test',bad_arr)\n",
    "    \n",
    "    model = LGBMClassifier(**param)\n",
    "    model.fit(train_x,train_y, verbose=False)\n",
    "\n",
    "\n",
    "    print(f'{param[\"max_depth\"]}_{param[\"num_leaves\"]}_{param[\"n_estimators\"]}_{param[\"learning_rate\"]:.3f}_{param[\"min_child_weight\"]:02d}_{param[\"colsample_bytree\"]:.2f}_{param[\"feature_fraction\"]:.2f}_{param[\"bagging_fraction\"]:.2f}_{param[\"lambda_l1\"]:.2f}_{param[\"lambda_l2\"]:.2f} : ', end=' ')\n",
    "    pred_auc = train_auc([model], train_x, train_y)\n",
    "    print(f'{pred_auc:.4f}')\n",
    "    file_name = f'lgbm_{param[\"max_depth\"]}_{param[\"num_leaves\"]}_{param[\"n_estimators\"]}_{param[\"learning_rate\"]:.3f}_{param[\"min_child_weight\"]:02d}_{param[\"colsample_bytree\"]:.2f}_{param[\"feature_fraction\"]:.2f}_{param[\"bagging_fraction\"]:.2f}_{param[\"lambda_l1\"]:.2f}_{param[\"lambda_l2\"]:.2f}_{pred_auc:.4f}'\n",
    "    submission(test_x,[model],file_name)\n",
    "    \n",
    "    return model"
   ]
  },
  {
   "cell_type": "code",
   "execution_count": 44,
   "metadata": {},
   "outputs": [],
   "source": [
    "lgbm_opt= { 'max_depth' : 5, \n",
    "            'num_leaves' : 359,\n",
    "            'n_estimators' : 581,\n",
    "            'learning_rate' : 0.05,\n",
    "            'min_child_weight' : 37,\n",
    "            'colsample_bytree' : 0.67,\n",
    "            'feature_fraction' : 0.77,\n",
    "            'bagging_fraction' : 0.91,\n",
    "            'lambda_l1' : 0.41,\n",
    "            'lambda_l2' : 0.09,\n",
    "            'objective' : 'binary',\n",
    "            'boosting_type' : 'dart'\n",
    "            }"
   ]
  },
  {
   "cell_type": "code",
   "execution_count": 49,
   "metadata": {
    "scrolled": true
   },
   "outputs": [
    {
     "name": "stdout",
     "output_type": "stream",
     "text": [
      "[LightGBM] [Warning] feature_fraction is set=0.77, colsample_bytree=0.67 will be ignored. Current value: feature_fraction=0.77\n",
      "[LightGBM] [Warning] lambda_l1 is set=0.41, reg_alpha=0.0 will be ignored. Current value: lambda_l1=0.41\n",
      "[LightGBM] [Warning] bagging_fraction is set=0.91, subsample=1.0 will be ignored. Current value: bagging_fraction=0.91\n",
      "[LightGBM] [Warning] lambda_l2 is set=0.09, reg_lambda=0.0 will be ignored. Current value: lambda_l2=0.09\n",
      "5_359_581_0.050_37_0.67_0.77_0.91_0.41_0.09 :  0.7853\n"
     ]
    }
   ],
   "source": [
    "model2 = lgbm(lgbm_opt,['tp_score_2'])"
   ]
  },
  {
   "cell_type": "markdown",
   "metadata": {},
   "source": [
    "# Ensemble"
   ]
  },
  {
   "cell_type": "code",
   "execution_count": 79,
   "metadata": {},
   "outputs": [],
   "source": [
    "def ensemble(xgb_params, lgbm_params, r):\n",
    "    \n",
    "    n1 = len(xgb_params)\n",
    "    n2 = len(lgbm_params)\n",
    "    num_model = len(r)\n",
    "    \n",
    "    assert (n1+n2 == num_model), 'Num mismatch'\n",
    "    \n",
    "    train_x = preprocess(train,'train')\n",
    "    train_y = train_x['voted']\n",
    "    train_x = train_x.drop(['voted'],axis=1)\n",
    "    test_x = preprocess(test,'test')\n",
    "    \n",
    "    model_arr = []\n",
    "    \n",
    "    for i in range(n1): \n",
    "        model = XGBClassifier(**xgb_params[i])\n",
    "        model.fit(train_x,train_y, verbose=False)\n",
    "        model_arr.append(model)\n",
    "        \n",
    "    for i in range(n2):\n",
    "        model = LGBMClassifier(**lgbm_params[i])\n",
    "        model.fit(train_x,train_y, verbose=False)\n",
    "        model_arr.append(model)\n",
    "    \n",
    "    score = np.zeros((test_x.shape[0],2))\n",
    "    for i in range(num_model):\n",
    "        score += model_arr[i].predict_proba(test_x)*r[i]\n",
    "\n",
    "    data = {'index':test['index'],'voted':score[:,1]}\n",
    "    submission = DataFrame(data)\n",
    "    \n",
    "    file_name = 'ensemble'\n",
    "    for i in range(num_model):\n",
    "        file_name = file_name + f'_{r[i]}'\n",
    "        \n",
    "    submission.to_csv('./submission/'+file_name+'.csv',index=False)\n",
    "\n",
    "    return model_arr"
   ]
  },
  {
   "cell_type": "code",
   "execution_count": 83,
   "metadata": {},
   "outputs": [],
   "source": [
    "xgb_1 = { 'max_depth' : 8,\n",
    "        'n_estimators' : 200,\n",
    "        'learning_rate' : 0.01,\n",
    "         'min_child_weight' : 6,\n",
    "         'colsample_bytree' : 0.8,\n",
    "        'verbosity' : 0,\n",
    "        'objective' : 'binary:logistic',\n",
    "        'booster' : 'gbtree',\n",
    "        'subsample' : 0.8}\n",
    "\n",
    "xgb_2 = { 'max_depth' : 8,\n",
    "        'n_estimators' : 250,\n",
    "        'learning_rate' : 0.01,\n",
    "         'min_child_weight' : 1,\n",
    "         'colsample_bytree' : 0.8,\n",
    "        'verbosity' : 0,\n",
    "        'objective' : 'binary:logistic',\n",
    "        'booster' : 'gbtree',\n",
    "        'subsample' : 0.8}\n",
    "\n",
    "lgbm_1 = { 'max_depth' : 5, \n",
    "            'num_leaves' : 359,\n",
    "            'n_estimators' : 581,\n",
    "            'learning_rate' : 0.05,\n",
    "            'min_child_weight' : 37,\n",
    "            'colsample_bytree' : 0.67,\n",
    "            'feature_fraction' : 0.77,\n",
    "            'bagging_fraction' : 0.91,\n",
    "            'lambda_l1' : 0.41,\n",
    "            'lambda_l2' : 0.09,\n",
    "            'objective' : 'binary',\n",
    "            'boosting_type' : 'dart'\n",
    "            }\n",
    "\n",
    "lgbm_2 = { 'max_depth' : 5, \n",
    "            'num_leaves' : 359,\n",
    "            'n_estimators' : 581,\n",
    "            'learning_rate' : 0.05,\n",
    "            'min_child_weight' : 37,\n",
    "            'colsample_bytree' : 0.67,\n",
    "            'feature_fraction' : 0.77,\n",
    "            'bagging_fraction' : 0.91,\n",
    "            'lambda_l1' : 0.41,\n",
    "            'lambda_l2' : 0.09,\n",
    "            'objective' : 'binary',\n",
    "            'boosting_type' : 'dart'\n",
    "            }"
   ]
  },
  {
   "cell_type": "code",
   "execution_count": 85,
   "metadata": {},
   "outputs": [
    {
     "name": "stdout",
     "output_type": "stream",
     "text": [
      "[LightGBM] [Warning] feature_fraction is set=0.77, colsample_bytree=0.67 will be ignored. Current value: feature_fraction=0.77\n",
      "[LightGBM] [Warning] lambda_l1 is set=0.41, reg_alpha=0.0 will be ignored. Current value: lambda_l1=0.41\n",
      "[LightGBM] [Warning] bagging_fraction is set=0.91, subsample=1.0 will be ignored. Current value: bagging_fraction=0.91\n",
      "[LightGBM] [Warning] lambda_l2 is set=0.09, reg_lambda=0.0 will be ignored. Current value: lambda_l2=0.09\n"
     ]
    }
   ],
   "source": [
    "arr = ensemble([xgb_1,xgb_2], [lgbm_1], [0.21, 0.63, 0.16])"
   ]
  },
  {
   "cell_type": "code",
   "execution_count": null,
   "metadata": {},
   "outputs": [],
   "source": []
  }
 ],
 "metadata": {
  "kernelspec": {
   "display_name": "Python 3",
   "language": "python",
   "name": "python3"
  },
  "language_info": {
   "codemirror_mode": {
    "name": "ipython",
    "version": 3
   },
   "file_extension": ".py",
   "mimetype": "text/x-python",
   "name": "python",
   "nbconvert_exporter": "python",
   "pygments_lexer": "ipython3",
   "version": "3.8.5"
  }
 },
 "nbformat": 4,
 "nbformat_minor": 4
}
